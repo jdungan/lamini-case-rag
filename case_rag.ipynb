{
 "cells": [
  {
   "cell_type": "markdown",
   "id": "f137a3f4",
   "metadata": {},
   "source": [
    "# Using FAISS and Lamini for RAG Pipeline"
   ]
  },
  {
   "cell_type": "markdown",
   "id": "b1a388b5",
   "metadata": {},
   "source": [
    "## Step 1: Import Libraries\n",
    "Import the necessary libraries, including FAISS, Lamini, and jsonlines to handle embeddings and data processing."
   ]
  },
  {
   "cell_type": "code",
   "execution_count": 1,
   "id": "55a06576",
   "metadata": {},
   "outputs": [],
   "source": [
    "import faiss\n",
    "import lamini\n",
    "import jsonlines"
   ]
  },
  {
   "cell_type": "markdown",
   "id": "e6798a88",
   "metadata": {},
   "source": [
    "## Step 2: Set Parameters\n",
    "Define parameters like the number of nearest neighbors to be returned."
   ]
  },
  {
   "cell_type": "code",
   "execution_count": 2,
   "id": "821d7275",
   "metadata": {},
   "outputs": [],
   "source": [
    "# Number of nearest chunks to return\n",
    "k = 2"
   ]
  },
  {
   "cell_type": "markdown",
   "id": "81ffcb58",
   "metadata": {},
   "source": [
    "## Step 3: Initialize Variables\n",
    "Set up placeholders for the index and corresponding plain text splits. Instantiate Lamini's embedding client."
   ]
  },
  {
   "cell_type": "code",
   "execution_count": 12,
   "id": "a14e94c1",
   "metadata": {},
   "outputs": [],
   "source": [
    "# Set up for the index, which holds the embeddings, and the splits, which holds the corresponding plain text\n",
    "index = None\n",
    "splits = []\n",
    "\n",
    "# Instantiate Lamini's embedding client\n",
    "embedding_client = lamini.Embedding()"
   ]
  },
  {
   "cell_type": "markdown",
   "id": "98c29c3e",
   "metadata": {},
   "source": [
    "## Step 4: Create Embeddings for Each Transcript\n",
    "Load each 'transcript' item from a JSONL file, create an embedding for it, and add it to the index."
   ]
  },
  {
   "cell_type": "code",
   "execution_count": 5,
   "id": "bf0be121",
   "metadata": {},
   "outputs": [],
   "source": [
    "# Load each 'transcript' item and create embeddings\n",
    "with jsonlines.open(\"data.jsonl\", \"r\") as file:\n",
    "    for item in file:\n",
    "        transcript_embedding = embedding_client.generate(item['transcript'])\n",
    "        if not index:\n",
    "            index = faiss.IndexFlatL2(transcript_embedding.size) # Set the size of the index based on model embedding size\n",
    "        index.add(transcript_embedding)\n",
    "        splits.append(item['transcript'])"
   ]
  },
  {
   "cell_type": "markdown",
   "id": "4805ebda",
   "metadata": {},
   "source": [
    "## Step 5: Create Embedding for the Question\n",
    "Create an embedding for the user's question to find the most relevant text from the index."
   ]
  },
  {
   "cell_type": "code",
   "execution_count": 6,
   "id": "80cb881e",
   "metadata": {},
   "outputs": [],
   "source": [
    "# Define the question and create its embedding\n",
    "question = \"What is TSMC's 2019 revenue in USD?\"\n",
    "question_embedding = embedding_client.generate(question)"
   ]
  },
  {
   "cell_type": "markdown",
   "id": "2c69a064",
   "metadata": {},
   "source": [
    "## Step 6: Find Nearest Neighbors\n",
    "Use FAISS to find the top ( k ) nearest neighbors for the question embedding."
   ]
  },
  {
   "cell_type": "code",
   "execution_count": 7,
   "id": "e99266cc",
   "metadata": {},
   "outputs": [],
   "source": [
    "# Find the k nearest neighbors and retrieve relevant data\n",
    "distances, indices = index.search(question_embedding, k)\n",
    "relevant_data = [splits[i] for i in indices[0] if i >= 0]"
   ]
  },
  {
   "cell_type": "markdown",
   "id": "1abe5f2e",
   "metadata": {},
   "source": [
    "## Step 7: Instantiate LLM Client\n",
    "Initialize Lamini's LLM client for generating the final response based on the relevant data."
   ]
  },
  {
   "cell_type": "code",
   "execution_count": 8,
   "id": "2236ea42",
   "metadata": {},
   "outputs": [],
   "source": [
    "# Instantiate Lamini's LLM client\n",
    "llm = lamini.Lamini(model_name=\"meta-llama/Meta-Llama-3.1-8B-Instruct\")"
   ]
  },
  {
   "cell_type": "markdown",
   "id": "8893fae3",
   "metadata": {},
   "source": [
    "## Step 8: Prepare the Prompt\n",
    "Construct a prompt for Lamini's LLM using the retrieved relevant data and the question."
   ]
  },
  {
   "cell_type": "code",
   "execution_count": 9,
   "id": "b5944651",
   "metadata": {},
   "outputs": [],
   "source": [
    "# Form the prompt using the retrieved data and the question\n",
    "prompt = f\"\"\"\n",
    "<|begin_of_text|><|start_header_id|>user<|end_header_id|>\n",
    "\n",
    "{relevant_data}\n",
    "{question}<|eot_id|><|start_header_id|>assistant<|end_header_id|>\"\"\""
   ]
  },
  {
   "cell_type": "markdown",
   "id": "f4cf26d2",
   "metadata": {},
   "source": [
    "## Step 9: Generate the Response\n",
    "Use the constructed prompt to generate the answer to the user's question with Lamini's LLM."
   ]
  },
  {
   "cell_type": "code",
   "execution_count": 14,
   "id": "24203325",
   "metadata": {},
   "outputs": [
    {
     "name": "stdout",
     "output_type": "stream",
     "text": [
      "\n",
      "\n",
      "The text does not mention TSMC (Taiwan Semiconductor Manufacturing Company) at all. It appears to be a transcript of a conference call from a company that is not specified. However, based on the content, it seems to be a company in the semiconductor industry, possibly a supplier to TSMC.\n",
      "\n",
      "The text mentions a revenue range of $550 million to $565 million for 2019, but it does not specify the company's name.\n"
     ]
    }
   ],
   "source": [
    "# Generate the answer using Lamini's LLM\n",
    "response = llm.generate(prompt)\n",
    "print(response)"
   ]
  }
 ],
 "metadata": {
  "kernelspec": {
   "display_name": "OSCN rag test",
   "language": "python",
   "name": "oscn_rag"
  },
  "language_info": {
   "codemirror_mode": {
    "name": "ipython",
    "version": 3
   },
   "file_extension": ".py",
   "mimetype": "text/x-python",
   "name": "python",
   "nbconvert_exporter": "python",
   "pygments_lexer": "ipython3",
   "version": "3.10.3"
  }
 },
 "nbformat": 4,
 "nbformat_minor": 5
}
